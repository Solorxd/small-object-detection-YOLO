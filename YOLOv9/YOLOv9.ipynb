{
  "nbformat": 4,
  "nbformat_minor": 0,
  "metadata": {
    "colab": {
      "provenance": [],
      "gpuType": "T4"
    },
    "kernelspec": {
      "name": "python3",
      "display_name": "Python 3"
    },
    "language_info": {
      "name": "python"
    },
    "accelerator": "GPU"
  },
  "cells": [
    {
      "cell_type": "code",
      "execution_count": null,
      "metadata": {
        "id": "Q5t_33VUs1GW"
      },
      "outputs": [],
      "source": [
        "!git clone https://github.com/WongKinYiu/yolov9\n",
        "\n",
        "!pip3 install -r /content/yolov9/requirements.txt -q"
      ]
    },
    {
      "cell_type": "code",
      "source": [
        "import os\n",
        "HOME = os.getcwd()\n",
        "print(HOME)\n",
        "!mkdir -p {HOME}/weights\n",
        "!wget -P {HOME}/yolov9/weights -q https://github.com/WongKinYiu/yolov9/releases/download/v0.1/yolov9-s.pt\n",
        "!wget -P {HOME}/yolov9/weights -q https://github.com/WongKinYiu/yolov9/releases/download/v0.1/gelan-s.pt"
      ],
      "metadata": {
        "id": "nclVAMmozRbx"
      },
      "execution_count": null,
      "outputs": []
    },
    {
      "cell_type": "code",
      "source": [
        "!pip install roboflow\n",
        "\n",
        "from roboflow import Roboflow\n",
        "rf = Roboflow(api_key=\"RWLrEfFagfCyWy7MdXDI\")\n",
        "project = rf.workspace(\"wildlife-detection-fbggu\").project(\"animal_detection-iitgj\")\n",
        "version = project.version(1)\n",
        "dataset = version.download(\"yolov9\")\n",
        "!mv {HOME}/animal_detection-1 {HOME}/yolov9/animal_detection-1"
      ],
      "metadata": {
        "id": "uR9Y5Elmz5HF"
      },
      "execution_count": null,
      "outputs": []
    },
    {
      "cell_type": "code",
      "source": [
        "!python {HOME}/yolov9/train.py \\\n",
        "--batch 16 --epochs 10 --img 320 --device 0 --min-items 0 --close-mosaic 15 \\\n",
        "--data {HOME}/yolov9/animal_detection-1/data.yaml \\\n",
        "--weights {HOME}/yolov9/weights/gelan-s.pt \\\n",
        "--cfg {HOME}/yolov9/models/detect/gelan-s.yaml \\\n",
        "--hyp hyp.scratch-high.yaml"
      ],
      "metadata": {
        "id": "tqf2yuYx0H1o"
      },
      "execution_count": null,
      "outputs": []
    }
  ]
}