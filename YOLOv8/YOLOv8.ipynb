{
  "nbformat": 4,
  "nbformat_minor": 0,
  "metadata": {
    "colab": {
      "provenance": []
    },
    "kernelspec": {
      "name": "python3",
      "display_name": "Python 3"
    },
    "language_info": {
      "name": "python"
    }
  },
  "cells": [
    {
      "cell_type": "code",
      "execution_count": null,
      "metadata": {
        "id": "Bfi_NftDMDQ3"
      },
      "outputs": [],
      "source": [
        "!pip install roboflow\n",
        "!pip install ultralytics\n",
        "\n",
        "from roboflow import Roboflow\n",
        "from ultralytics import YOLO\n",
        "\n",
        "\n",
        "rf = Roboflow(api_key=\"RWLrEfFagfCyWy7MdXDI\")\n",
        "project = rf.workspace(\"wildlife-detection-fbggu\").project(\"animal_detection-iitgj\")\n",
        "version = project.version(1)\n",
        "dataset = version.download(\"yolov8\")\n",
        "!mv animal_detection-1 datasets"
      ]
    },
    {
      "cell_type": "markdown",
      "source": [
        "Дальше необходимо изменить пути в файле datasets/data.yaml на ../train/images и ../valid/images для параметров train и val соответственно"
      ],
      "metadata": {
        "id": "eMWyaOhZzDUF"
      }
    },
    {
      "cell_type": "code",
      "source": [
        "model = YOLO(\"yolov8s.pt\")\n",
        "\n",
        "results = model.train(data=\"datasets/data.yaml\", epochs=10, imgsz=640)"
      ],
      "metadata": {
        "id": "SL16pcTTNxKH"
      },
      "execution_count": null,
      "outputs": []
    }
  ]
}