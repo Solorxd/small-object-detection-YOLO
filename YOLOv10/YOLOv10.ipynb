{
  "cells": [
    {
      "cell_type": "code",
      "execution_count": null,
      "metadata": {
        "id": "4lCJgniOBZ2t"
      },
      "outputs": [],
      "source": [
        "import os\n",
        "HOME = os.getcwd()\n",
        "print(HOME)\n",
        "!pip install -q git+https://github.com/THU-MIG/yolov10.git\n",
        "!mkdir -p {HOME}/weights\n",
        "!wget -P {HOME}/weights -q https://github.com/jameslahm/yolov10/releases/download/v1.0/yolov10n.pt"
      ]
    },
    {
      "cell_type": "code",
      "execution_count": null,
      "metadata": {
        "id": "C1SyksYdCoZ2"
      },
      "outputs": [],
      "source": [
        "!pip install roboflow\n",
        "\n",
        "from roboflow import Roboflow\n",
        "\n",
        "\n",
        "\n",
        "rf = Roboflow(api_key=\"RWLrEfFagfCyWy7MdXDI\")\n",
        "project = rf.workspace(\"wildlife-detection-fbggu\").project(\"animal_detection-iitgj\")\n",
        "version = project.version(1)\n",
        "dataset = version.download(\"yolov8\")\n",
        "!mv animal_detection-1 datasets"
      ]
    },
    {
      "cell_type": "code",
      "source": [],
      "metadata": {
        "id": "1Xya54Kjozmw"
      },
      "execution_count": null,
      "outputs": []
    },
    {
      "cell_type": "markdown",
      "metadata": {
        "id": "FUDI8xAb2fhy"
      },
      "source": [
        "Дальше необходимо изменить пути в файле datasets/data.yaml на ../train/images и ../valid/images для параметров train и val соответственно"
      ]
    },
    {
      "cell_type": "code",
      "execution_count": null,
      "metadata": {
        "id": "M388UjV2CUFN"
      },
      "outputs": [],
      "source": [
        "!pip install ultralytics\n",
        "from ultralytics import YOLOv10\n",
        "\n",
        "os.environ[\"XRT_TPU_CONFIG\"]=\"localservice;0;localhost:51011\"\n",
        "\n",
        "import torch\n",
        "import torch_xla.core.xla_model as xm\n",
        "\n",
        "device = xm.xla_device()\n",
        "\n",
        "!yolo task=detect mode=train --device=0 epochs=10 batch=32 plots=True \\\n",
        "model={HOME}/weights/yolov10n.pt \\\n",
        "data={HOME}/datasets/data.yaml"
      ]
    }
  ],
  "metadata": {
    "colab": {
      "provenance": [],
      "gpuType": "V28"
    },
    "kernelspec": {
      "display_name": "Python 3",
      "name": "python3"
    },
    "language_info": {
      "name": "python"
    },
    "accelerator": "TPU"
  },
  "nbformat": 4,
  "nbformat_minor": 0
}